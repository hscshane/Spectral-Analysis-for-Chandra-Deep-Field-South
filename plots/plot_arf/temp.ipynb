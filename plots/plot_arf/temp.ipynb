import numpy as np 
import pandas as pd 
from astropy.io import fits
import matplotlib.pyplot as plt
import os

names = os.listdir('d:\\OneDrive - University of Miami\\work\\CDFS\\plot\\plot_arf\\')
names = [name for name in names if name.endswith('arf')]
df = pd.DataFrame()
for name in names:
    with fits.open(name) as hdu:
        data=hdu[1].data['SPECRESP']
    df[name.split('.')[0]] = data 
with fits.open('gal_90.arf') as hdu:
    hi = hdu[1].data['ENERG_HI']
    low = hdu[1].data['ENERG_LO']
df['x_hi'] = hi
df['x_lo'] = low
df['x'] = 0.5*(df['x_hi']+df['x_lo'])
print(df)
print(df.columns)

ax=df.plot(x='x',y=['dxb_50', 'dxb_90', 'gal_50', 'gal_90'])
ax.set(xlabel='energy', ylabel='$cm^2$',
       title='ARF plot')